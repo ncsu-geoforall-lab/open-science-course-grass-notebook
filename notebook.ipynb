{
 "cells": [
  {
   "cell_type": "markdown",
   "metadata": {},
   "source": [
    "# GRASS GIS Notebook for Tools for Open Geospatial Science Course\n",
    "\n",
    "This is a quick introduction into Jupyter Notebook. This is a first cell and besides a heading it\n",
    "contains text. The syntax used is Markdown.\n",
    "\n",
    "Python code can be written like this and executed using Shift+Enter:"
   ]
  },
  {
   "cell_type": "code",
   "execution_count": null,
   "metadata": {},
   "outputs": [],
   "source": [
    "# This cell gives is a quick introduction into Jupyter Notebook.\n",
    "# Python code is written as expected:\n",
    "a = 6\n",
    "b = 7\n",
    "c = a * b\n",
    "\n",
    "# We are using Python 2, so print is a statement by default:\n",
    "print \"Answer is\", c\n",
    "\n",
    "# In Jupyter Notebook, Python code can be mixed with command line code (Bash).\n",
    "# It is enough just to prefix the command line with an exclamation mark:\n",
    "!echo \"Answer is $c\"\n",
    "\n",
    "# Use Shift+Enter to execute this cell. The result is below."
   ]
  },
  {
   "cell_type": "code",
   "execution_count": null,
   "metadata": {},
   "outputs": [],
   "source": [
    "# download a sample dataset\n",
    "!mkdir -p /home/jovyan/grassdata \\\n",
    "  && curl -SL https://grass.osgeo.org/sampledata/north_carolina/nc_basic_spm_grass7.zip > nc_basic_spm_grass7.zip \\\n",
    "  && unzip -qq nc_basic_spm_grass7.zip \\\n",
    "  && mv nc_basic_spm_grass7 /home/jovyan/grassdata \\\n",
    "  && rm nc_basic_spm_grass7.tar.gz"
   ]
  },
  {
   "cell_type": "code",
   "execution_count": null,
   "metadata": {},
   "outputs": [],
   "source": [
    "import os\n",
    "import sys\n",
    "import subprocess\n",
    "from IPython.display import Image\n",
    "\n",
    "# create GRASS GIS runtime environment\n",
    "gisbase = subprocess.check_output([\"grass\", \"--config\", \"path\"]).strip()\n",
    "os.environ['GISBASE'] = gisbase\n",
    "sys.path.append(os.path.join(gisbase, \"etc\", \"python\"))\n",
    "\n",
    "# do GRASS GIS imports\n",
    "import grass.script as gs\n",
    "import grass.script.setup as gsetup\n",
    "\n",
    "# set GRASS GIS session data\n",
    "rcfile = gsetup.init(gisbase, \"/home/jovyan/grassdata\", \"nc_basic_spm_grass7\", \"user1\")\n",
    "\n",
    "# default font displays\n",
    "os.environ['GRASS_FONT'] = 'sans'\n",
    "# overwrite existing maps\n",
    "os.environ['GRASS_OVERWRITE'] = '1'\n",
    "gs.set_raise_on_error(True)\n",
    "gs.set_capture_stderr(True)\n",
    "\n",
    "# set display modules to render into a file (named map.png by default)\n",
    "os.environ['GRASS_RENDER_IMMEDIATE'] = 'cairo'\n",
    "os.environ['GRASS_RENDER_FILE_READ'] = 'TRUE'\n",
    "os.environ['GRASS_LEGEND_FILE'] = 'legend.txt'"
   ]
  },
  {
   "cell_type": "code",
   "execution_count": null,
   "metadata": {},
   "outputs": [],
   "source": [
    "!g.list vect"
   ]
  },
  {
   "cell_type": "markdown",
   "metadata": {},
   "source": [
    "### Raster buffer\n",
    "\n",
    "Set computational region and create multiple buffers in given distances\n",
    "around lakes represented as raster:"
   ]
  },
  {
   "cell_type": "code",
   "execution_count": null,
   "metadata": {},
   "outputs": [],
   "source": [
    "gs.parse_command('g.region', raster=\"lakes\", flags='pg')\n",
    "gs.run_command('r.buffer', input=\"lakes\", output=\"lakes_buff\", distances=[60, 120, 240, 500])\n",
    "gs.run_command('d.erase')\n",
    "gs.run_command('d.rast', map=\"lakes_buff\")\n",
    "gs.run_command('d.legend', raster=\"lakes_buff\", range=(2, 5), at=(80, 100, 2, 10))\n",
    "Image(filename=\"map.png\")"
   ]
  },
  {
   "cell_type": "markdown",
   "metadata": {},
   "source": [
    "## Vector buffer\n",
    "\n",
    "Create a negative buffer around state boundary represented as a vector.\n",
    "Vector modules typically don't follow computational region,\n",
    "but we set it to inform display modules about our area of interest."
   ]
  },
  {
   "cell_type": "code",
   "execution_count": null,
   "metadata": {},
   "outputs": [],
   "source": [
    "gs.run_command('v.buffer', input=\"boundary_state\", output=\"buffer\", distance=-10000)\n",
    "gs.parse_command('g.region', vector=\"boundary_state\", flags='pg')\n",
    "gs.run_command('d.erase')\n",
    "!rm -f $GRASS_LEGEND_FILE\n",
    "gs.run_command('d.vect', map=\"boundary_state\", fill_color=\"#5A91ED\", legend_label=\"State boundary\")\n",
    "gs.run_command('d.vect', map=\"buffer\", fill_color=\"#F8766D\", legend_label=\"Inner portion\")\n",
    "gs.run_command('d.legend.vect', at=(10, 35))\n",
    "Image(filename=\"map.png\")"
   ]
  }
 ],
 "metadata": {
  "kernelspec": {
   "display_name": "Python 2",
   "language": "python",
   "name": "python2"
  },
  "language_info": {
   "codemirror_mode": {
    "name": "ipython",
    "version": 2
   },
   "file_extension": ".py",
   "mimetype": "text/x-python",
   "name": "python",
   "nbconvert_exporter": "python",
   "pygments_lexer": "ipython2",
   "version": "2.7.15"
  }
 },
 "nbformat": 4,
 "nbformat_minor": 1
}
